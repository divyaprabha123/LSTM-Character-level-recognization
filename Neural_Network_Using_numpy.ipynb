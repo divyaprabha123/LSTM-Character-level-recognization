{
  "nbformat": 4,
  "nbformat_minor": 0,
  "metadata": {
    "colab": {
      "name": "Neural Network Using numpy.ipynb",
      "version": "0.3.2",
      "provenance": [],
      "include_colab_link": true
    },
    "kernelspec": {
      "name": "python3",
      "display_name": "Python 3"
    }
  },
  "cells": [
    {
      "cell_type": "markdown",
      "metadata": {
        "id": "view-in-github",
        "colab_type": "text"
      },
      "source": [
        "<a href=\"https://colab.research.google.com/github/divyaprabha123/Deep-Learning/blob/master/Neural_Network_Using_numpy.ipynb\" target=\"_parent\"><img src=\"https://colab.research.google.com/assets/colab-badge.svg\" alt=\"Open In Colab\"/></a>"
      ]
    },
    {
      "metadata": {
        "id": "hobU0DtvuzF5",
        "colab_type": "text"
      },
      "cell_type": "markdown",
      "source": [
        "# Deep Neural Network Using Numpy"
      ]
    },
    {
      "metadata": {
        "id": "ysUfmKKtu6KA",
        "colab_type": "code",
        "colab": {
          "base_uri": "https://localhost:8080/",
          "height": 869
        },
        "outputId": "479eaa05-0d09-47c8-89c5-5e15035c67d9"
      },
      "cell_type": "code",
      "source": [
        "!pip install -U -q PyDrive\n",
        "!pip install imageio\n",
        "!pip install torch \n",
        "!pip install kaggle\n",
        "!pip install pywidgets\n",
        "\n",
        "#Data dependencies\n",
        "import pandas as pd\n",
        "import numpy as np\n",
        "import matplotlib.pyplot as plt\n",
        "plt.rcParams['figure.figsize']=[16,10]\n",
        "#Seaborn is for Visulalizations\n",
        "import seaborn as sns\n",
        "\n",
        "from sklearn.model_selection import train_test_split\n",
        "import xgboost as xgb\n",
        "\n",
        "%matplotlib inline\n",
        "plt.rcParams['axes.unicode_minus'] = False\n",
        "\n",
        "\n",
        "from oauth2client.client import GoogleCredentials\n",
        "from googleapiclient.discovery import build\n",
        "from oauth2client.client import AccessTokenCredentials\n"
      ],
      "execution_count": 1,
      "outputs": [
        {
          "output_type": "stream",
          "text": [
            "Collecting imageio\n",
            "\u001b[?25l  Downloading https://files.pythonhosted.org/packages/28/b4/cbb592964dfd71a9de6a5b08f882fd334fb99ae09ddc82081dbb2f718c81/imageio-2.4.1.tar.gz (3.3MB)\n",
            "\u001b[K    100% |████████████████████████████████| 3.3MB 8.9MB/s \n",
            "\u001b[?25hRequirement already satisfied: numpy in /usr/local/lib/python3.6/dist-packages (from imageio) (1.14.6)\n",
            "Requirement already satisfied: pillow in /usr/local/lib/python3.6/dist-packages (from imageio) (4.0.0)\n",
            "Requirement already satisfied: olefile in /usr/local/lib/python3.6/dist-packages (from pillow->imageio) (0.46)\n",
            "Building wheels for collected packages: imageio\n",
            "  Running setup.py bdist_wheel for imageio ... \u001b[?25l-\b \b\\\b \b|\b \b/\b \bdone\n",
            "\u001b[?25h  Stored in directory: /root/.cache/pip/wheels/e0/43/31/605de9372ceaf657f152d3d5e82f42cf265d81db8bbe63cde1\n",
            "Successfully built imageio\n",
            "Installing collected packages: imageio\n",
            "Successfully installed imageio-2.4.1\n",
            "Collecting torch\n",
            "\u001b[?25l  Downloading https://files.pythonhosted.org/packages/7e/60/66415660aa46b23b5e1b72bc762e816736ce8d7260213e22365af51e8f9c/torch-1.0.0-cp36-cp36m-manylinux1_x86_64.whl (591.8MB)\n",
            "\u001b[K    100% |████████████████████████████████| 591.8MB 24kB/s \n",
            "tcmalloc: large alloc 1073750016 bytes == 0x61bba000 @  0x7fcbf7eb62a4 0x591a07 0x5b5d56 0x502e9a 0x506859 0x502209 0x502f3d 0x506859 0x504c28 0x502540 0x502f3d 0x506859 0x504c28 0x502540 0x502f3d 0x506859 0x504c28 0x502540 0x502f3d 0x507641 0x502209 0x502f3d 0x506859 0x504c28 0x502540 0x502f3d 0x507641 0x504c28 0x502540 0x502f3d 0x507641\n",
            "\u001b[?25hInstalling collected packages: torch\n",
            "Successfully installed torch-1.0.0\n",
            "Collecting kaggle\n",
            "\u001b[?25l  Downloading https://files.pythonhosted.org/packages/9e/94/5370052b9cbc63a927bda08c4f7473a35d3bb27cc071baa1a83b7f783352/kaggle-1.5.1.1.tar.gz (53kB)\n",
            "\u001b[K    100% |████████████████████████████████| 61kB 2.3MB/s \n",
            "\u001b[?25hRequirement already satisfied: urllib3<1.23.0,>=1.15 in /usr/local/lib/python3.6/dist-packages (from kaggle) (1.22)\n",
            "Requirement already satisfied: six>=1.10 in /usr/local/lib/python3.6/dist-packages (from kaggle) (1.11.0)\n",
            "Requirement already satisfied: certifi in /usr/local/lib/python3.6/dist-packages (from kaggle) (2018.11.29)\n",
            "Requirement already satisfied: python-dateutil in /usr/local/lib/python3.6/dist-packages (from kaggle) (2.5.3)\n",
            "Requirement already satisfied: requests in /usr/local/lib/python3.6/dist-packages (from kaggle) (2.18.4)\n",
            "Requirement already satisfied: tqdm in /usr/local/lib/python3.6/dist-packages (from kaggle) (4.28.1)\n",
            "Collecting python-slugify (from kaggle)\n",
            "  Downloading https://files.pythonhosted.org/packages/00/ad/c778a6df614b6217c30fe80045b365bfa08b5dd3cb02e8b37a6d25126781/python-slugify-1.2.6.tar.gz\n",
            "Requirement already satisfied: idna<2.7,>=2.5 in /usr/local/lib/python3.6/dist-packages (from requests->kaggle) (2.6)\n",
            "Requirement already satisfied: chardet<3.1.0,>=3.0.2 in /usr/local/lib/python3.6/dist-packages (from requests->kaggle) (3.0.4)\n",
            "Collecting Unidecode>=0.04.16 (from python-slugify->kaggle)\n",
            "\u001b[?25l  Downloading https://files.pythonhosted.org/packages/31/39/53096f9217b057cb049fe872b7fc7ce799a1a89b76cf917d9639e7a558b5/Unidecode-1.0.23-py2.py3-none-any.whl (237kB)\n",
            "\u001b[K    100% |████████████████████████████████| 245kB 5.2MB/s \n",
            "\u001b[?25hBuilding wheels for collected packages: kaggle, python-slugify\n",
            "  Running setup.py bdist_wheel for kaggle ... \u001b[?25l-\b \b\\\b \bdone\n",
            "\u001b[?25h  Stored in directory: /root/.cache/pip/wheels/5a/2d/0c/9fc539e558586b9ed9127916a7f4e620163c24cc97460b1188\n",
            "  Running setup.py bdist_wheel for python-slugify ... \u001b[?25l-\b \bdone\n",
            "\u001b[?25h  Stored in directory: /root/.cache/pip/wheels/e3/65/da/2045deea3098ed7471eca0e2460cfbd3fdfe8c1d6fa6fcac92\n",
            "Successfully built kaggle python-slugify\n",
            "Installing collected packages: Unidecode, python-slugify, kaggle\n",
            "Successfully installed Unidecode-1.0.23 kaggle-1.5.1.1 python-slugify-1.2.6\n",
            "Collecting pywidgets\n",
            "\u001b[31m  Could not find a version that satisfies the requirement pywidgets (from versions: )\u001b[0m\n",
            "\u001b[31mNo matching distribution found for pywidgets\u001b[0m\n"
          ],
          "name": "stdout"
        }
      ]
    },
    {
      "metadata": {
        "id": "_r89nrJy1QTl",
        "colab_type": "text"
      },
      "cell_type": "markdown",
      "source": [
        "# **Initializing Parameters**\n",
        "\n",
        "> Initializing parameters to some small random values\n",
        "\n",
        "> **Why not initialize Weights-W by zero?**\n",
        "\n",
        "> Initializing weights to zero makes all the hidden layers to do same  computation\n",
        "\n",
        "> \n",
        "\n",
        "\n",
        "\n",
        "\n",
        "\n",
        "\n",
        "\n"
      ]
    },
    {
      "metadata": {
        "id": "Nl0YW8zVvKgf",
        "colab_type": "code",
        "colab": {}
      },
      "cell_type": "code",
      "source": [
        "#initialize parameters to random values and store it in the dictionary\n",
        "def initialize_parameters(layer_dims):\n",
        "  theta={}\n",
        "  length=len(layer_dims)\n",
        "  for i in range(1,length):\n",
        "    theta[\"W\"+str(i)]=np.random.randn(layer_dims[i],layer_dims[i-1])*0.01\n",
        "    theta[\"b\"+str(i)]=np.zeros((layer_dims[i],1))\n",
        "  return theta"
      ],
      "execution_count": 0,
      "outputs": []
    },
    {
      "metadata": {
        "id": "bPWXOSN507Rs",
        "colab_type": "code",
        "colab": {
          "base_uri": "https://localhost:8080/",
          "height": 146
        },
        "outputId": "a1863f47-6d2f-4f08-967e-f1c2a73a7474"
      },
      "cell_type": "code",
      "source": [
        "print(initialize_parameters([5,3,2]))"
      ],
      "execution_count": 7,
      "outputs": [
        {
          "output_type": "stream",
          "text": [
            "{'W1': array([[-0.0067763 ,  0.00131508, -0.01032825,  0.00692128,  0.01341213],\n",
            "       [-0.01052152,  0.00301033, -0.01628999,  0.01187271, -0.01345357],\n",
            "       [ 0.0001408 ,  0.00351156,  0.01521964, -0.00399005, -0.00117797]]), 'b1': array([[0.],\n",
            "       [0.],\n",
            "       [0.]]), 'W2': array([[ 0.02142241, -0.00291978, -0.00557838],\n",
            "       [-0.00176856,  0.00718174, -0.00812718]]), 'b2': array([[0.],\n",
            "       [0.]])}\n"
          ],
          "name": "stdout"
        }
      ]
    },
    {
      "metadata": {
        "id": "B0ZUQuGU3LYV",
        "colab_type": "text"
      },
      "cell_type": "markdown",
      "source": [
        "# Forward Propagation"
      ]
    },
    {
      "metadata": {
        "id": "v9BzoJFp66kW",
        "colab_type": "code",
        "colab": {}
      },
      "cell_type": "code",
      "source": [
        "def sigmoid(X):\n",
        "  return(1/(1+np.exp(-X)))"
      ],
      "execution_count": 0,
      "outputs": []
    },
    {
      "metadata": {
        "id": "4es8IvVr-NEn",
        "colab_type": "code",
        "colab": {}
      },
      "cell_type": "code",
      "source": [
        "def linear_forward(A, W, b):\n",
        "    Z = np.dot(W,A)+b\n",
        "    cache = (A, W, b)\n",
        "    return Z, cache"
      ],
      "execution_count": 0,
      "outputs": []
    },
    {
      "metadata": {
        "id": "QF9Cy0uA56El",
        "colab_type": "code",
        "colab": {}
      },
      "cell_type": "code",
      "source": [
        "theta=initialize_parameters([4,2,1])"
      ],
      "execution_count": 0,
      "outputs": []
    },
    {
      "metadata": {
        "id": "JRGIrZ6G7MU7",
        "colab_type": "code",
        "colab": {
          "base_uri": "https://localhost:8080/",
          "height": 72
        },
        "outputId": "e82cbdab-c1b3-4d07-9c67-fadcb0bbcaf8"
      },
      "cell_type": "code",
      "source": [
        "print(theta)"
      ],
      "execution_count": 112,
      "outputs": [
        {
          "output_type": "stream",
          "text": [
            "{'W1': array([[ 0.00743456, -0.008725  ,  0.00638007,  0.01376562],\n",
            "       [-0.00028402, -0.01343716, -0.00778566,  0.01132814]]), 'b1': array([[0.],\n",
            "       [0.]]), 'W2': array([[-0.01519852,  0.0034832 ]]), 'b2': array([[0.]])}\n"
          ],
          "name": "stdout"
        }
      ]
    },
    {
      "metadata": {
        "id": "KUltkSRd7OpF",
        "colab_type": "code",
        "colab": {}
      },
      "cell_type": "code",
      "source": [
        "X=np.random.randn(4,5)\n",
        "cache=[]"
      ],
      "execution_count": 0,
      "outputs": []
    },
    {
      "metadata": {
        "id": "EirukqNWB1rp",
        "colab_type": "code",
        "colab": {}
      },
      "cell_type": "code",
      "source": [
        "def forward_propagation(A_prev,W,b,activation=\"sigmoid\"):\n",
        "  Z,linear_cache = linear_forward(A_prev,W,b)\n",
        "  print(\"Z\",Z)\n",
        "  print(\"linear cacge \",linear_cache)\n",
        "  A,activation_cache = sigmoid(Z)\n",
        "  cache=(linear_cache,activation_cache)\n",
        "  return A,cache"
      ],
      "execution_count": 0,
      "outputs": []
    },
    {
      "metadata": {
        "id": "gkcVI7rT7j1b",
        "colab_type": "code",
        "colab": {}
      },
      "cell_type": "code",
      "source": [
        "def forward_propagation_deep(X,theta):\n",
        "  caches=[]\n",
        "  length=len(theta)\n",
        "  A=X\n",
        "  for l in range(1,length):\n",
        "    A_prev=A\n",
        "    A,cache=forward_propagation(A_prev,theta[\"W\"+str(l)],theta[\"b\"+str(l)],activation = \"sigmoid\")\n",
        "    caches.append(cache)\n",
        "    None\n",
        "  #AL,cache=forward_propagation(A,theta[\"W\"+str(length)],theta[\"b\"+str(length)])\n",
        "  #caches=caches.append(cache)\n",
        "  #None\n",
        "  return A,caches"
      ],
      "execution_count": 0,
      "outputs": []
    },
    {
      "metadata": {
        "id": "f1lMTC6_DzWW",
        "colab_type": "code",
        "colab": {
          "base_uri": "https://localhost:8080/",
          "height": 185
        },
        "outputId": "f83122c1-689e-4b11-8ee8-c0542504cba6"
      },
      "cell_type": "code",
      "source": [
        "Al,caches=forward_propagation_deep(X,theta)"
      ],
      "execution_count": 104,
      "outputs": [
        {
          "output_type": "stream",
          "text": [
            "Z [[ 0.00550705 -0.00494361 -0.00587472  0.00522866 -0.00600355]\n",
            " [-0.01241981  0.00033786  0.00152349 -0.03512916  0.00420805]]\n",
            "linear cacge  (array([[ 0.94492312, -0.21235459, -0.28513752,  0.75959968, -0.20586909],\n",
            "       [ 0.46149856, -0.45428618, -0.19503715, -0.07349556, -2.23943822],\n",
            "       [ 1.15447354,  0.38324294,  0.44899879,  0.5441258 ,  0.29651612],\n",
            "       [ 0.28068954, -0.23208025, -0.41049806, -1.58609101,  0.99305779]]), array([[ 0.01135637,  0.00112387, -0.00506023,  0.0003541 ],\n",
            "       [-0.02256716,  0.00581332,  0.00248969,  0.01192529]]), array([[0.],\n",
            "       [0.]]))\n"
          ],
          "name": "stdout"
        }
      ]
    },
    {
      "metadata": {
        "id": "eqM31eaFESKn",
        "colab_type": "code",
        "colab": {}
      },
      "cell_type": "code",
      "source": [
        "print(caches)"
      ],
      "execution_count": 0,
      "outputs": []
    },
    {
      "metadata": {
        "id": "-T5MKxs6FKtA",
        "colab_type": "code",
        "colab": {}
      },
      "cell_type": "code",
      "source": [
        "print(Al)"
      ],
      "execution_count": 0,
      "outputs": []
    },
    {
      "metadata": {
        "id": "cVvwNVi9FjeR",
        "colab_type": "code",
        "colab": {}
      },
      "cell_type": "code",
      "source": [
        "def cost(Al,Y):\n",
        "  m=Y.shape[0]\n",
        "  cost = (-1/m)*np.sum(Y*np.log(Al)+((1+Y)*np.log(1-Al)))\n",
        "  return cost"
      ],
      "execution_count": 0,
      "outputs": []
    },
    {
      "metadata": {
        "id": "fEKd-B31KEpk",
        "colab_type": "code",
        "colab": {}
      },
      "cell_type": "code",
      "source": [
        "Y=np.array([1,0,0,0,1])"
      ],
      "execution_count": 0,
      "outputs": []
    },
    {
      "metadata": {
        "id": "3EUMail3KRkY",
        "colab_type": "code",
        "colab": {
          "base_uri": "https://localhost:8080/",
          "height": 35
        },
        "outputId": "cb1de3d1-f6e4-4867-80ee-0e303dcd190a"
      },
      "cell_type": "code",
      "source": [
        "print(cost(Al,Y))"
      ],
      "execution_count": 116,
      "outputs": [
        {
          "output_type": "stream",
          "text": [
            "1.247063443011121\n"
          ],
          "name": "stdout"
        }
      ]
    },
    {
      "metadata": {
        "id": "g9CAxh3lKTk7",
        "colab_type": "code",
        "colab": {}
      },
      "cell_type": "code",
      "source": [
        ""
      ],
      "execution_count": 0,
      "outputs": []
    }
  ]
}